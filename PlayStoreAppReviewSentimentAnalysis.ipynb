!pip install -q google_play_scraper
!pip install -q transformers
!pip install -q plotly-express
!pip install pyyaml

import pandas as pd
import numpy as np
import nltk
from nltk.sentiment.vader import SentimentIntensityAnalyzer
from google_play_scraper import app,Sort,reviews_all
from google_play_scraper import app
import matplotlib.pyplot as plt

id = input("enter the app id")

result = app(id)
total_rating=result['ratings']
total_score=result['score']
total_downloads=result['installs']

all_reviews =  reviews_all(id, sort = Sort.NEWEST)
df_reviews = pd.DataFrame(np.array(all_reviews), columns = ['review'])
df_reviews = df_reviews.join(pd.DataFrame(df_reviews.pop('review').tolist()))
df = df_reviews[['score','content']]
df['content'].fillna("0000", inplace = True)

s1 = df[df['score']==1].count()
s2 = df[df['score']==2].count()
s3 = df[df['score']==3].count()
s4 = df[df['score']==4].count()
s5 = df[df['score']==5].count()
pvt_table = pd.DataFrame([[total_rating],[total_score],[total_downloads],s1,s2,s3,s4,s5], index = ['total_reviews','total_score','total_downloads','1-star-ratings','2-star-ratings','3-star-ratings','4-star-ratings','5-star-ratings'])
my_labels = ['1-star-ratings','2-star-ratings','3-star-ratings','4-star-ratings','5-star-ratings']
df_reviews['score'].value_counts().plot(kind='pie',figsize=(8,8),labels = my_labels, autopct = '%1.1f%%')

nltk.download("vader_lexicon")
analyzer = SentimentIntensityAnalyzer()

def get_sentiment_score(text):
    return analyzer.polarity_scores(text)["compound"]

df["sentiment_score"] = df["content"].apply(get_sentiment_score)

positive = df[df['sentiment_score']>0]
negative = df[df['sentiment_score']<0]
neutral = df[df['sentiment_score']==0]

print(positive)
print(negative)
print(neutral)
